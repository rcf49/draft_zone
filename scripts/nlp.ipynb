{
 "cells": [
  {
   "cell_type": "code",
   "execution_count": 1,
   "metadata": {},
   "outputs": [],
   "source": [
    "import spacy\n",
    "from sklearn.feature_extraction.text import TfidfVectorizer\n",
    "from sklearn.metrics.pairwise import cosine_similarity"
   ]
  },
  {
   "cell_type": "markdown",
   "metadata": {},
   "source": [
    "```\n",
    "! py -m spacy download en_core_web_md\n",
    "```"
   ]
  },
  {
   "cell_type": "code",
   "execution_count": 2,
   "metadata": {},
   "outputs": [],
   "source": [
    "test_sentence_1 = \"I like going outside on walks.\"\n",
    "test_sentence_2 = \"I like staying inside to read.\""
   ]
  },
  {
   "cell_type": "code",
   "execution_count": 3,
   "metadata": {},
   "outputs": [
    {
     "name": "stdout",
     "output_type": "stream",
     "text": [
      "Spacy similarity: 0.8160641572901978\n"
     ]
    }
   ],
   "source": [
    "nlp = spacy.load(\"en_core_web_md\")\n",
    "spacy_sentence_1 = nlp(test_sentence_1)\n",
    "spacy_sentence_2 = nlp(test_sentence_2)\n",
    "spacy_similarity_score = spacy_sentence_1.similarity(spacy_sentence_2)\n",
    "print(\"Spacy similarity:\", spacy_similarity_score)"
   ]
  },
  {
   "cell_type": "code",
   "execution_count": 4,
   "metadata": {},
   "outputs": [
    {
     "name": "stdout",
     "output_type": "stream",
     "text": [
      "[[1.         0.14438356]\n",
      " [0.14438356 1.        ]]\n"
     ]
    }
   ],
   "source": [
    "vectorizer = TfidfVectorizer(stop_words=\"english\", strip_accents=\"unicode\", lowercase= True)\n",
    "tfidf = vectorizer.fit_transform([test_sentence_1,test_sentence_2])\n",
    "tfidf_similarity = cosine_similarity(tfidf.toarray())\n",
    "print(tfidf_similarity)"
   ]
  }
 ],
 "metadata": {
  "kernelspec": {
   "display_name": "draft_zone_venv",
   "language": "python",
   "name": "python3"
  },
  "language_info": {
   "codemirror_mode": {
    "name": "ipython",
    "version": 3
   },
   "file_extension": ".py",
   "mimetype": "text/x-python",
   "name": "python",
   "nbconvert_exporter": "python",
   "pygments_lexer": "ipython3",
   "version": "3.11.5"
  },
  "orig_nbformat": 4
 },
 "nbformat": 4,
 "nbformat_minor": 2
}
