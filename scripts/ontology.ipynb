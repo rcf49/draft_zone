{
 "cells": [
  {
   "cell_type": "code",
   "execution_count": 1,
   "metadata": {},
   "outputs": [],
   "source": [
    "from rdflib import Graph, URIRef, Literal, RDFS\n",
    "example_URI = \"http://example.org/\"\n",
    "example_property = URIRef(f\"{example_URI}property\")"
   ]
  },
  {
   "cell_type": "code",
   "execution_count": 2,
   "metadata": {},
   "outputs": [
    {
     "data": {
      "text/plain": [
       "<Graph identifier=Na87b511d84d94415b1b3bc0cdaf6c686 (<class 'rdflib.graph.Graph'>)>"
      ]
     },
     "execution_count": 2,
     "metadata": {},
     "output_type": "execute_result"
    }
   ],
   "source": [
    "g = Graph()\n",
    "test1_uri = URIRef(f\"{example_URI}Test1\")\n",
    "test2_uri = URIRef(f\"{example_URI}Test2\")\n",
    "g.add((test1_uri, RDFS.label, Literal(\"Test 1 Label\")))\n",
    "g.add((test2_uri, RDFS.label, Literal(\"Test 2 Label\")))\n",
    "g.add((test1_uri, example_property, test2_uri))"
   ]
  },
  {
   "cell_type": "code",
   "execution_count": 3,
   "metadata": {},
   "outputs": [
    {
     "name": "stdout",
     "output_type": "stream",
     "text": [
      "Test 2 Label\n"
     ]
    }
   ],
   "source": [
    "query_string = \"\"\n",
    "with open(\"sparql_example.rq\") as file:\n",
    "    query_string = file.read()\n",
    "\n",
    "results = g.query(query_string)\n",
    "for row in results:\n",
    "    print(row.o_label)"
   ]
  },
  {
   "cell_type": "code",
   "execution_count": null,
   "metadata": {},
   "outputs": [],
   "source": []
  }
 ],
 "metadata": {
  "kernelspec": {
   "display_name": "draft_zone_venv",
   "language": "python",
   "name": "python3"
  },
  "language_info": {
   "codemirror_mode": {
    "name": "ipython",
    "version": 3
   },
   "file_extension": ".py",
   "mimetype": "text/x-python",
   "name": "python",
   "nbconvert_exporter": "python",
   "pygments_lexer": "ipython3",
   "version": "3.11.5"
  },
  "orig_nbformat": 4
 },
 "nbformat": 4,
 "nbformat_minor": 2
}
